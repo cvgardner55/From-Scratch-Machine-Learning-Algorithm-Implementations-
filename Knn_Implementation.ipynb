{
 "cells": [
  {
   "cell_type": "markdown",
   "metadata": {},
   "source": [
    "# Knn Implementation on simple dataset"
   ]
  },
  {
   "cell_type": "code",
   "execution_count": 2,
   "metadata": {},
   "outputs": [
    {
     "data": {
      "text/html": [
       "<div>\n",
       "<style scoped>\n",
       "    .dataframe tbody tr th:only-of-type {\n",
       "        vertical-align: middle;\n",
       "    }\n",
       "\n",
       "    .dataframe tbody tr th {\n",
       "        vertical-align: top;\n",
       "    }\n",
       "\n",
       "    .dataframe thead th {\n",
       "        text-align: right;\n",
       "    }\n",
       "</style>\n",
       "<table border=\"1\" class=\"dataframe\">\n",
       "  <thead>\n",
       "    <tr style=\"text-align: right;\">\n",
       "      <th></th>\n",
       "      <th>sepal length</th>\n",
       "      <th>sepal width</th>\n",
       "      <th>petal length</th>\n",
       "      <th>petal width</th>\n",
       "      <th>FlowerClass</th>\n",
       "      <th>isTrain</th>\n",
       "    </tr>\n",
       "  </thead>\n",
       "  <tbody>\n",
       "    <tr>\n",
       "      <th>0</th>\n",
       "      <td>4.9</td>\n",
       "      <td>3.0</td>\n",
       "      <td>1.4</td>\n",
       "      <td>0.2</td>\n",
       "      <td>Iris-setosa</td>\n",
       "      <td>False</td>\n",
       "    </tr>\n",
       "    <tr>\n",
       "      <th>1</th>\n",
       "      <td>4.7</td>\n",
       "      <td>3.2</td>\n",
       "      <td>1.3</td>\n",
       "      <td>0.2</td>\n",
       "      <td>Iris-setosa</td>\n",
       "      <td>True</td>\n",
       "    </tr>\n",
       "    <tr>\n",
       "      <th>2</th>\n",
       "      <td>4.6</td>\n",
       "      <td>3.1</td>\n",
       "      <td>1.5</td>\n",
       "      <td>0.2</td>\n",
       "      <td>Iris-setosa</td>\n",
       "      <td>True</td>\n",
       "    </tr>\n",
       "    <tr>\n",
       "      <th>3</th>\n",
       "      <td>5.0</td>\n",
       "      <td>3.6</td>\n",
       "      <td>1.4</td>\n",
       "      <td>0.2</td>\n",
       "      <td>Iris-setosa</td>\n",
       "      <td>True</td>\n",
       "    </tr>\n",
       "    <tr>\n",
       "      <th>4</th>\n",
       "      <td>5.4</td>\n",
       "      <td>3.9</td>\n",
       "      <td>1.7</td>\n",
       "      <td>0.4</td>\n",
       "      <td>Iris-setosa</td>\n",
       "      <td>True</td>\n",
       "    </tr>\n",
       "    <tr>\n",
       "      <th>5</th>\n",
       "      <td>4.6</td>\n",
       "      <td>3.4</td>\n",
       "      <td>1.4</td>\n",
       "      <td>0.3</td>\n",
       "      <td>Iris-setosa</td>\n",
       "      <td>False</td>\n",
       "    </tr>\n",
       "    <tr>\n",
       "      <th>6</th>\n",
       "      <td>5.0</td>\n",
       "      <td>3.4</td>\n",
       "      <td>1.5</td>\n",
       "      <td>0.2</td>\n",
       "      <td>Iris-setosa</td>\n",
       "      <td>False</td>\n",
       "    </tr>\n",
       "    <tr>\n",
       "      <th>7</th>\n",
       "      <td>4.4</td>\n",
       "      <td>2.9</td>\n",
       "      <td>1.4</td>\n",
       "      <td>0.2</td>\n",
       "      <td>Iris-setosa</td>\n",
       "      <td>True</td>\n",
       "    </tr>\n",
       "    <tr>\n",
       "      <th>8</th>\n",
       "      <td>4.9</td>\n",
       "      <td>3.1</td>\n",
       "      <td>1.5</td>\n",
       "      <td>0.1</td>\n",
       "      <td>Iris-setosa</td>\n",
       "      <td>True</td>\n",
       "    </tr>\n",
       "    <tr>\n",
       "      <th>9</th>\n",
       "      <td>5.4</td>\n",
       "      <td>3.7</td>\n",
       "      <td>1.5</td>\n",
       "      <td>0.2</td>\n",
       "      <td>Iris-setosa</td>\n",
       "      <td>False</td>\n",
       "    </tr>\n",
       "  </tbody>\n",
       "</table>\n",
       "</div>"
      ],
      "text/plain": [
       "   sepal length  sepal width   petal length  petal width  FlowerClass  isTrain\n",
       "0           4.9          3.0            1.4          0.2  Iris-setosa    False\n",
       "1           4.7          3.2            1.3          0.2  Iris-setosa     True\n",
       "2           4.6          3.1            1.5          0.2  Iris-setosa     True\n",
       "3           5.0          3.6            1.4          0.2  Iris-setosa     True\n",
       "4           5.4          3.9            1.7          0.4  Iris-setosa     True\n",
       "5           4.6          3.4            1.4          0.3  Iris-setosa    False\n",
       "6           5.0          3.4            1.5          0.2  Iris-setosa    False\n",
       "7           4.4          2.9            1.4          0.2  Iris-setosa     True\n",
       "8           4.9          3.1            1.5          0.1  Iris-setosa     True\n",
       "9           5.4          3.7            1.5          0.2  Iris-setosa    False"
      ]
     },
     "execution_count": 2,
     "metadata": {},
     "output_type": "execute_result"
    }
   ],
   "source": [
    "from pprint import pprint\n",
    "import pandas as pd\n",
    "import numpy as np\n",
    "import matplotlib.pyplot as plt\n",
    "import seaborn as sns\n",
    "import math\n",
    "import operator\n",
    "from matplotlib import pyplot as plt\n",
    "import os\n",
    "#read in file and then give it feature headers\n",
    "os.path.isfile('/Users/16786/Desktop/iris.data')\n",
    "df= pd.read_csv('/Users/16786/Desktop/iris.data')\n",
    "df.columns = ['sepal length', 'sepal width', ' petal length', 'petal width', 'FlowerClass']\n",
    "#seperate aproximently 25% out to be in the test set with which sample goes in each set being random and marked by isTrain true or false\n",
    "df['isTrain'] = np.random.uniform(0,1,len(df)) <= .75\n",
    "#current dataframe formate\n",
    "df.head(10)"
   ]
  },
  {
   "cell_type": "code",
   "execution_count": 8,
   "metadata": {},
   "outputs": [
    {
     "name": "stdout",
     "output_type": "stream",
     "text": [
      "length of train set 118\n",
      "length of test set 31\n",
      "0\n",
      "3.051006711409397\n"
     ]
    }
   ],
   "source": [
    "#change the flower types to 0 =  Iris Setosa, 1 =  Iris Versicolor, and 2 =  Iris Virginica\n",
    "for x in range (0,len(df)):\n",
    "    if df.iloc[x,4] == 'Iris-setosa': \n",
    "        df.iloc[x,4] = 0\n",
    "    if df.iloc[x,4] == 'Iris-versicolor': \n",
    "        df.iloc[x,4] = 1\n",
    "    if df.iloc[x,4] == 'Iris-virginica': \n",
    "        df.iloc[x,4] = 2\n",
    "df.head(10)\n",
    "#seperating train and test into two different dataframes for time effecency \n",
    "train, test = df[df['isTrain']==True], df[df['isTrain']==False]\n",
    "#lengths of each set this will change with every run\n",
    "print('length of train set ' + str(len(train)))\n",
    "print('length of test set '+ str(len(test)))\n",
    "print((train[0:0+1]).iloc[0,4])\n",
    "df.head(10)\n",
    "(print(np.mean(df['sepal width'])))"
   ]
  },
  {
   "cell_type": "code",
   "execution_count": null,
   "metadata": {},
   "outputs": [],
   "source": [
    "#simple euclidian distance function feed in two dataframe rows to compare and the lenght of each feature set,\n",
    "#output the euclidean distance between the two rows of features\n",
    "def euclidean_distance(a, b, length):\n",
    "    dist = 0\n",
    "    for x in range (0, length-1):\n",
    "        dist += pow((a.iloc[0,x] - b.iloc[0,x]), 2)\n",
    "        \n",
    "    return math.sqrt(dist)"
   ]
  },
  {
   "cell_type": "code",
   "execution_count": 4,
   "metadata": {},
   "outputs": [],
   "source": [
    "#finds the k nearest neigbors to a test set entry. inputs, the full training set, one row of test features, the number of neigbors being found\n",
    "#output a list containing the class of the k nearest neighbors to the test entry\n",
    "def get_k_nearest_neibors(training_set, test_entry, k):\n",
    "    dist_set = []\n",
    "    niegbors = []\n",
    "    \n",
    "    for x in range (0, len(train)-1):\n",
    "        #find Euclidean_distance\n",
    "        this_dist = euclidean_distance(train[x:x+1], test_entry, 4)\n",
    "        #pair that euclidean distance with the class value of the test point it came from\n",
    "        dist_set.append((this_dist, training_set[x:x+1].iloc[0,4]))\n",
    "        #sort list\n",
    "    dist_set.sort(key=operator.itemgetter(0))\n",
    "    for n in range (0, k):\n",
    "        #add k niegbors value to the output\n",
    "         niegbors.append(dist_set[n][1])\n",
    "    #print(niegbors)\n",
    "    return niegbors"
   ]
  },
  {
   "cell_type": "code",
   "execution_count": 5,
   "metadata": {},
   "outputs": [],
   "source": [
    "#calulates the accuracy by comparing a list of the predicted classes with a list of the true classes\n",
    "#output a sum of the number of correctly identifyed  classes\n",
    "def accuracy_calc(predicted, real):\n",
    "    correct = 0\n",
    "    for x in range (0, len(real)):\n",
    "        if predicted[x] == real[x:x+1].iloc[0,4]:\n",
    "            correct += 1\n",
    "    return correct"
   ]
  },
  {
   "cell_type": "code",
   "execution_count": 6,
   "metadata": {},
   "outputs": [],
   "source": [
    "list_of_accuracys = []\n",
    "list_of_accuracys_train = []\n",
    "#populating a list with nonsence values\n",
    "for p in range (99):\n",
    "    list_of_accuracys.append(-1)\n",
    "    list_of_accuracys_train.append(-1)"
   ]
  },
  {
   "cell_type": "markdown",
   "metadata": {},
   "source": [
    "# Finding the best value for K"
   ]
  },
  {
   "cell_type": "code",
   "execution_count": 7,
   "metadata": {},
   "outputs": [],
   "source": [
    "test_set_classifications = [0]\n",
    "for x in range (0, len(test)-1):\n",
    "        test_set_classifications.append(-1)\n",
    "#takes 99 different values of k and uses them to preform knn on the test set. accuracys are then calculated and stored in list_of_accuracys.   \n",
    "for k in range (1,100):\n",
    "    class_list = [0,0,0]\n",
    "    count = 0\n",
    "    #the for loop running Knn on each entry in the test set for a given k value\n",
    "    for x in range (0, len(test)-1):\n",
    "        nieg = []\n",
    "        nieg = get_k_nearest_neibors(train, test[x:x+1], k)\n",
    "        for n in range(0, k-1):\n",
    "            for m in range (0,3):\n",
    "                if nieg[n] == (m):\n",
    "                    class_list[m] += 1\n",
    "        test_set_classifications[x] = (class_list.index(max(class_list)))\n",
    "        #print(test_set_classifications[x])\n",
    "        class_list = [0,0,0]\n",
    "        count += 1\n",
    "    list_of_accuracys[k-1] = accuracy_calc(test_set_classifications, test)  \n",
    "    list_of_accuracys[k-1] = list_of_accuracys[k-1]/len(test)"
   ]
  },
  {
   "cell_type": "markdown",
   "metadata": {},
   "source": [
    "# The best value for k appears be between 12-15 with a sharp drop off at 65"
   ]
  },
  {
   "cell_type": "code",
   "execution_count": 8,
   "metadata": {},
   "outputs": [
    {
     "name": "stdout",
     "output_type": "stream",
     "text": [
      "[0.36585365853658536, 0.9512195121951219, 0.926829268292683, 0.9512195121951219, 0.9512195121951219, 0.9512195121951219, 0.926829268292683, 0.9512195121951219, 0.975609756097561, 0.9512195121951219, 0.9512195121951219, 0.9512195121951219, 0.9512195121951219, 0.9512195121951219, 0.9512195121951219, 0.9512195121951219, 0.9512195121951219, 0.9512195121951219, 0.9512195121951219, 0.9512195121951219, 0.9512195121951219, 0.926829268292683, 0.9024390243902439, 0.9024390243902439, 0.926829268292683, 0.9024390243902439, 0.9024390243902439, 0.9024390243902439, 0.9024390243902439, 0.9024390243902439, 0.926829268292683, 0.9024390243902439, 0.9024390243902439, 0.9024390243902439, 0.926829268292683, 0.926829268292683, 0.9024390243902439, 0.9024390243902439, 0.9024390243902439, 0.9024390243902439, 0.9024390243902439, 0.9024390243902439, 0.9024390243902439, 0.9024390243902439, 0.9024390243902439, 0.9024390243902439, 0.9024390243902439, 0.9024390243902439, 0.8780487804878049, 0.8780487804878049, 0.8780487804878049, 0.8780487804878049, 0.8780487804878049, 0.8780487804878049, 0.8780487804878049, 0.8780487804878049, 0.8780487804878049, 0.8780487804878049, 0.8780487804878049, 0.8780487804878049, 0.8536585365853658, 0.8780487804878049, 0.8292682926829268, 0.8536585365853658, 0.8536585365853658, 0.8536585365853658, 0.8292682926829268, 0.8536585365853658, 0.6341463414634146, 0.6341463414634146, 0.6341463414634146, 0.6341463414634146, 0.6341463414634146, 0.6341463414634146, 0.5853658536585366, 0.4878048780487805, 0.4878048780487805, 0.2926829268292683, 0.2682926829268293, 0.2682926829268293, 0.2682926829268293, 0.2682926829268293, 0.2682926829268293, 0.2682926829268293, 0.2682926829268293, 0.2682926829268293, 0.2682926829268293, 0.2682926829268293, 0.2682926829268293, 0.2682926829268293, 0.2682926829268293, 0.2682926829268293, 0.2682926829268293, 0.2682926829268293, 0.2682926829268293, 0.2682926829268293, 0.2682926829268293, 0.2682926829268293, 0.2682926829268293]\n"
     ]
    },
    {
     "data": {
      "text/plain": [
       "<function matplotlib.pyplot.show(*args, **kw)>"
      ]
     },
     "execution_count": 8,
     "metadata": {},
     "output_type": "execute_result"
    },
    {
     "data": {
      "image/png": "[encoded data removed]",
      "text/plain": [
       "<Figure size 432x288 with 1 Axes>"
      ]
     },
     "metadata": {
      "needs_background": "light"
     },
     "output_type": "display_data"
    }
   ],
   "source": [
    "list_1_to_49 = []\n",
    "print(list_of_accuracys)\n",
    "for x in range (0,99):\n",
    "    list_1_to_49.append(x+1)\n",
    "    #a graph showing the results of the test set accuracy of the first 99 k values\n",
    "plt.plot(list_1_to_49, list_of_accuracys)    \n",
    "plt.xlabel('k value') \n",
    "# naming the y axis \n",
    "plt.ylabel('accuracy') \n",
    "plt.show"
   ]
  },
  {
   "cell_type": "markdown",
   "metadata": {},
   "source": [
    "# Testing the preformance of train set on train set to test for over under fit"
   ]
  },
  {
   "cell_type": "code",
   "execution_count": 9,
   "metadata": {},
   "outputs": [],
   "source": [
    "test_set_classifications_train = [0]\n",
    "for x in range (0, len(train)-1):\n",
    "        test_set_classifications_train.append(-1)\n",
    "#this part functions the same as the test set function above except its testing the training set on its self.\n",
    "for k in range (1,100):\n",
    "    \n",
    "    class_list = [0,0,0]\n",
    "    count = 0\n",
    "    for x in range (0, len(train)-1):\n",
    "        nieg = []\n",
    "        nieg = get_k_nearest_neibors(train, train[x:x+1], k)\n",
    "        for n in range(0, k):\n",
    "            for m in range (0,3):\n",
    "                if nieg[n] == (m):\n",
    "                    class_list[m] += 1\n",
    "        test_set_classifications_train[x] = (class_list.index(max(class_list)))\n",
    "        \n",
    "        class_list = [0,0,0]\n",
    "        count += 1\n",
    "    #print(test_set_classifications_train)\n",
    "    list_of_accuracys_train[k-1] = accuracy_calc(test_set_classifications_train, train)\n",
    "    list_of_accuracys_train[k-1] = list_of_accuracys_train[k-1]/len(train)"
   ]
  },
  {
   "cell_type": "code",
   "execution_count": 10,
   "metadata": {},
   "outputs": [
    {
     "name": "stdout",
     "output_type": "stream",
     "text": [
      "[0.9907407407407407, 0.9537037037037037, 0.9537037037037037, 0.9444444444444444, 0.9537037037037037, 0.9351851851851852, 0.9537037037037037, 0.9259259259259259, 0.9351851851851852, 0.9259259259259259, 0.9351851851851852, 0.9166666666666666, 0.9259259259259259, 0.9259259259259259, 0.9351851851851852, 0.9259259259259259, 0.9351851851851852, 0.9351851851851852, 0.9259259259259259, 0.8981481481481481, 0.9166666666666666, 0.9074074074074074, 0.9074074074074074, 0.9074074074074074, 0.8981481481481481, 0.9074074074074074, 0.9166666666666666, 0.8981481481481481, 0.9166666666666666, 0.9166666666666666, 0.9166666666666666, 0.8981481481481481, 0.9074074074074074, 0.8703703703703703, 0.8703703703703703, 0.8796296296296297, 0.8796296296296297, 0.8703703703703703, 0.8611111111111112, 0.8611111111111112, 0.8611111111111112, 0.8703703703703703, 0.8703703703703703, 0.8703703703703703, 0.8703703703703703, 0.8703703703703703, 0.8703703703703703, 0.8703703703703703, 0.8611111111111112, 0.8703703703703703, 0.8703703703703703, 0.8703703703703703, 0.8703703703703703, 0.8611111111111112, 0.8611111111111112, 0.8703703703703703, 0.8703703703703703, 0.8611111111111112, 0.8703703703703703, 0.8333333333333334, 0.8425925925925926, 0.8148148148148148, 0.8425925925925926, 0.8333333333333334, 0.8518518518518519, 0.8425925925925926, 0.8518518518518519, 0.6759259259259259, 0.6759259259259259, 0.6759259259259259, 0.6574074074074074, 0.6574074074074074, 0.6388888888888888, 0.5833333333333334, 0.5277777777777778, 0.5277777777777778, 0.3611111111111111, 0.3611111111111111, 0.3611111111111111, 0.3611111111111111, 0.3611111111111111, 0.3611111111111111, 0.3611111111111111, 0.3611111111111111, 0.3611111111111111, 0.3611111111111111, 0.3611111111111111, 0.3611111111111111, 0.3611111111111111, 0.3611111111111111, 0.3611111111111111, 0.3611111111111111, 0.3611111111111111, 0.3611111111111111, 0.3611111111111111, 0.3611111111111111, 0.3611111111111111, 0.3611111111111111, 0.3611111111111111]\n"
     ]
    },
    {
     "data": {
      "text/plain": [
       "<function matplotlib.pyplot.show(*args, **kw)>"
      ]
     },
     "execution_count": 10,
     "metadata": {},
     "output_type": "execute_result"
    },
    {
     "data": {
      "image/png": "[encoded data removed]",
      "text/plain": [
       "<Figure size 432x288 with 1 Axes>"
      ]
     },
     "metadata": {
      "needs_background": "light"
     },
     "output_type": "display_data"
    }
   ],
   "source": [
    "print(list_of_accuracys_train)\n",
    "plt.plot(list_1_to_49, list_of_accuracys_train, label = 'training data')\n",
    "plt.plot(list_1_to_49, list_of_accuracys, label = 'testing data')\n",
    "plt.xlabel('k value') \n",
    "# naming the y axis \n",
    "# A table comparing the test and training set accuracys,it show that the is between 5 and 10 and a fairly close relation between the test and training sets\n",
    "plt.ylabel('accuracy') \n",
    "plt.show"
   ]
  },
  {
   "cell_type": "code",
   "execution_count": 11,
   "metadata": {},
   "outputs": [
    {
     "name": "stdout",
     "output_type": "stream",
     "text": [
      "[0.9907407407407407, 0.9537037037037037, 0.9537037037037037, 0.9444444444444444, 0.9537037037037037, 0.9351851851851852, 0.9537037037037037, 0.9259259259259259, 0.9351851851851852, 0.9259259259259259, 0.9351851851851852, 0.9166666666666666, 0.9259259259259259, 0.9259259259259259, 0.9351851851851852, 0.9259259259259259, 0.9351851851851852, 0.9351851851851852, 0.9259259259259259, 0.8981481481481481, 0.9166666666666666, 0.9074074074074074, 0.9074074074074074, 0.9074074074074074, 0.8981481481481481, 0.9074074074074074, 0.9166666666666666, 0.8981481481481481, 0.9166666666666666, 0.9166666666666666, 0.9166666666666666, 0.8981481481481481, 0.9074074074074074, 0.8703703703703703, 0.8703703703703703, 0.8796296296296297, 0.8796296296296297, 0.8703703703703703, 0.8611111111111112, 0.8611111111111112, 0.8611111111111112, 0.8703703703703703, 0.8703703703703703, 0.8703703703703703, 0.8703703703703703, 0.8703703703703703, 0.8703703703703703, 0.8703703703703703, 0.8611111111111112, 0.8703703703703703, 0.8703703703703703, 0.8703703703703703, 0.8703703703703703, 0.8611111111111112, 0.8611111111111112, 0.8703703703703703, 0.8703703703703703, 0.8611111111111112, 0.8703703703703703, 0.8333333333333334, 0.8425925925925926, 0.8148148148148148, 0.8425925925925926, 0.8333333333333334, 0.8518518518518519, 0.8425925925925926, 0.8518518518518519, 0.6759259259259259, 0.6759259259259259, 0.6759259259259259, 0.6574074074074074, 0.6574074074074074, 0.6388888888888888, 0.5833333333333334, 0.5277777777777778, 0.5277777777777778, 0.3611111111111111, 0.3611111111111111, 0.3611111111111111, 0.3611111111111111, 0.3611111111111111, 0.3611111111111111, 0.3611111111111111, 0.3611111111111111, 0.3611111111111111, 0.3611111111111111, 0.3611111111111111, 0.3611111111111111, 0.3611111111111111, 0.3611111111111111, 0.3611111111111111, 0.3611111111111111, 0.3611111111111111, 0.3611111111111111, 0.3611111111111111, 0.3611111111111111, 0.3611111111111111, 0.3611111111111111, 0.3611111111111111]\n"
     ]
    }
   ],
   "source": [
    "print(list_of_accuracys_train)"
   ]
  },
  {
   "cell_type": "code",
   "execution_count": null,
   "metadata": {},
   "outputs": [],
   "source": []
  }
 ],
 "metadata": {
  "kernelspec": {
   "display_name": "Python 3",
   "language": "python",
   "name": "python3"
  },
  "language_info": {
   "codemirror_mode": {
    "name": "ipython",
    "version": 3
   },
   "file_extension": ".py",
   "mimetype": "text/x-python",
   "name": "python",
   "nbconvert_exporter": "python",
   "pygments_lexer": "ipython3",
   "version": "3.7.9"
  }
 },
 "nbformat": 4,
 "nbformat_minor": 4
}
